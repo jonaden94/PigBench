{
 "cells": [
  {
   "cell_type": "markdown",
   "metadata": {
    "id": "jdMe_5bLj804"
   },
   "source": [
    "# Demo of pig detection and tracking models\n",
    "This Colab notebook demonstrates the capabilities of the pig detection and tracking models presented in the paper \"Benchmarking pig detection and tracking under diverse and challenging conditions\". To run this demo, you **need to be connected to a GPU runtime**. To do this, select \"Runtime\" > \"Change runtime type\" and select a GPU (e.g. T4 GPU, which can be used for free)."
   ]
  },
  {
   "cell_type": "markdown",
   "metadata": {
    "id": "wAFPVkiQD3Iy"
   },
   "source": [
    "# Create environment"
   ]
  },
  {
   "cell_type": "markdown",
   "metadata": {
    "id": "1KctKLF6j5ZZ"
   },
   "source": [
    "First, we need to create a suitable environment to run the models. The entire installation process takes roughly 4 minutes. **Do NOT click on the big window that pops up and tells you to restart the session and also do not get worried by the red warning messages.** Just wait for 4 minutes until the installation is complete. This is the case as soon as **\"Installation complete!\"** is printed to the cell output. Once the installation is complete, restart the session by clicking on the pop up window. You can then continue to run the next cells."
   ]
  },
  {
   "cell_type": "code",
   "execution_count": null,
   "metadata": {
    "id": "bhPcBEz5ZH78"
   },
   "outputs": [],
   "source": [
    "!pip install torch==2.0.0\n",
    "!pip install torchvision==0.15.1\n",
    "!pip install -U openmim\n",
    "!mim install mmengine\n",
    "!mim install \"mmcv==2.0.0\"\n",
    "!mim install mmdet==3.3.0\n",
    "!mim install mmyolo==0.6.0\n",
    "!pip install numpy==1.26.4\n",
    "!pip install munch\n",
    "!pip install loguru\n",
    "!pip install ftfy\n",
    "!pip install lap\n",
    "!pip install filterpy\n",
    "print(\"Installation complete!\")"
   ]
  },
  {
   "cell_type": "markdown",
   "metadata": {
    "id": "5-jhDHu5Oc3i"
   },
   "source": [
    "# Clone repo and load packages\n",
    "After the environment has been set up, we need to clone the PigBench repository and load the necessary packages."
   ]
  },
  {
   "cell_type": "code",
   "execution_count": null,
   "metadata": {
    "id": "tN1Y5b7aayDK"
   },
   "outputs": [],
   "source": [
    "!git clone https://github.com/jonaden94/PigBench"
   ]
  },
  {
   "cell_type": "code",
   "execution_count": null,
   "metadata": {
    "id": "Snp5N6_LpmxZ"
   },
   "outputs": [],
   "source": [
    "%cd PigBench/detection/tools/inference\n",
    "import mmcv\n",
    "import os\n",
    "import sys\n",
    "from mmdet.utils import register_all_modules\n",
    "from mmdet.apis import init_detector, inference_detector\n",
    "from visualization_utils import draw_bboxes\n",
    "sys.path.append('../../')"
   ]
  },
  {
   "cell_type": "markdown",
   "metadata": {
    "id": "N9eFk9jwOiwR"
   },
   "source": [
    "# detection demo"
   ]
  },
  {
   "cell_type": "markdown",
   "metadata": {
    "id": "476FOuNSpo_v"
   },
   "source": [
    "Before running the below code cells, please download the pre-trained Co-DINO checkpoint (named codino_swin.pth) from this data repository: https://data.goettingen-research-online.de/dataset.xhtml?persistentId=doi:10.25625/I6UYE9\n",
    "\n",
    "After you did so, open your google drive and navigate to the ``MyDrive`` folder. Depending on your language settings, the folder might appear in a translated form (e.g. ``Meine Ablage`` in German). Within the MyDrive folder, create a folder named ``PigDetect`` and put the downloaded model weights there. The full path in google drive to the model weights should be ``MyDrive/PigDetect/co_dino_swin.pth``. You can then connect google drive with Colab by running the following code block:"
   ]
  },
  {
   "cell_type": "code",
   "execution_count": null,
   "metadata": {
    "id": "OAPeREXG54Qf"
   },
   "outputs": [],
   "source": [
    "from google.colab import drive\n",
    "drive.mount('/content/drive')"
   ]
  },
  {
   "cell_type": "markdown",
   "metadata": {
    "id": "9RncvRU05tHg"
   },
   "source": [
    "If you successfully mounted google drive, you can now run the below code to load the model."
   ]
  },
  {
   "cell_type": "code",
   "execution_count": null,
   "metadata": {
    "id": "CW_-dXvYd2uj"
   },
   "outputs": [],
   "source": [
    "## config and checkpoint file paths\n",
    "config_path = '../../configs/co_detr/co_dino_swin.py'\n",
    "checkpoint_path = '../../../../drive/MyDrive/PigDetect/codino_swin.pth'\n",
    "\n",
    "register_all_modules(init_default_scope=False)\n",
    "model = init_detector(config_path, checkpoint_path, device='cuda:0')"
   ]
  },
  {
   "cell_type": "markdown",
   "metadata": {
    "id": "fQbkxjRCr5hw"
   },
   "source": [
    "The next block runs inference on an example image. Feel free to put other pig images in your google drive to run inference on them!"
   ]
  },
  {
   "cell_type": "code",
   "execution_count": null,
   "metadata": {
    "id": "UkXXbeTJeNVT"
   },
   "outputs": [],
   "source": [
    "# run inference on a single example image\n",
    "image_path = '../../data/example_images/demo_image1.jpg'\n",
    "\n",
    "# Alternatively, put your own images in google drive in the PigDetect folder and adapt the below path!\n",
    "# image_path = '../../../../drive/MyDrive/PigDetect/name_of_your_image.jpg'\n",
    "\n",
    "image = mmcv.imread(image_path, channel_order='rgb')\n",
    "result = inference_detector(model, image) # you can also provide image_path1 as input\n",
    "\n",
    "scores0 = result.pred_instances.scores.cpu().numpy()\n",
    "bboxes0 = result.pred_instances.bboxes.cpu().numpy()"
   ]
  },
  {
   "cell_type": "markdown",
   "metadata": {
    "id": "QfbzfpGsssC6"
   },
   "source": [
    "The next block visualizes the predicted bounding boxes."
   ]
  },
  {
   "cell_type": "code",
   "execution_count": null,
   "metadata": {
    "id": "n8ypHlfQfr3A"
   },
   "outputs": [],
   "source": [
    "# score_thresh is the minimum score of a bbox that is required for it to be visualized\n",
    "draw_bboxes(image_path=image_path, bboxes=bboxes0, scores=scores0,\n",
    "            score_thresh=0.4, save_path=None, linewidth=2, show_scores=True, figsize=(15, 15), score_fontsize=6)"
   ]
  },
  {
   "cell_type": "markdown",
   "metadata": {
    "id": "czTFJ0AjSdrx"
   },
   "source": [
    "# tracking demo"
   ]
  },
  {
   "cell_type": "markdown",
   "metadata": {
    "id": "K6wb-OaFswtR"
   },
   "source": [
    "Before running the below code cell, please download the pre-trained Co-DINO checkpoint as described above in the detection demo. If you already did so, that's great! You also need to put a video in google drive to run inference. As an example, you can download the ``PigTrackVideos.zip`` file from https://data.goettingen-research-online.de/dataset.xhtml?persistentId=doi:10.25625/P7VQTP&version=DRAFT and extract the ``pigtrack0001.mp4`` file from it. Then, navigate to ``MyDrive/PigDetect``, create a folder named ``example_videos`` there, and put ``pigtrack0001.mp4`` there. The full path in google drive to the video should be ``MyDrive/PigDetect/example_videos/pigtrack0001.mp4``.\n",
    "\n",
    "The Co-DINO model is quite slow, especially here on Colab, so inference time for the 14 sec video is roughly 2 min. More lightweight models can easily be added to Colab. Feel free to write a github issue if you feel this would be helpful. Running inference on your custom videos can be done by simply replacing the example video with a video of your choice.\n",
    "\n",
    "The model output is saved to ``MyDrive/PigDetect/example_videos_results``. It includes a visualization of the tracking results in mp4 format"
   ]
  },
  {
   "cell_type": "code",
   "execution_count": null,
   "metadata": {
    "id": "lCFmTimlXJk4"
   },
   "outputs": [],
   "source": [
    "%cd ../../../tracking/boxmot"
   ]
  },
  {
   "cell_type": "code",
   "execution_count": null,
   "metadata": {
    "id": "6_pgrHKQVojR"
   },
   "outputs": [],
   "source": [
    "!python main.py \\\n",
    "  --config configs/botsort.yaml \\\n",
    "  --inference_detector_checkpoint ../../../drive/MyDrive/PigDetect/codino_swin.pth \\\n",
    "  --seq_dir ../../../drive/MyDrive/PigDetect/example_videos \\\n",
    "  --outputs_base ../../../drive/MyDrive/PigDetect/example_videos_results"
   ]
  }
 ],
 "metadata": {
  "accelerator": "GPU",
  "colab": {
   "gpuType": "T4",
   "provenance": []
  },
  "kernelspec": {
   "display_name": "Python 3",
   "name": "python3"
  },
  "language_info": {
   "name": "python"
  }
 },
 "nbformat": 4,
 "nbformat_minor": 0
}
